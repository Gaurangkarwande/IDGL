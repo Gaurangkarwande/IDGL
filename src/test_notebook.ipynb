{
 "cells": [
  {
   "cell_type": "code",
   "execution_count": 53,
   "metadata": {},
   "outputs": [],
   "source": [
    "import torch\n",
    "\n",
    "from core.utils.data_utils import prepare_datasets, DataStream, vectorize_input\n",
    "from core.model_handler import ModelHandler, batch_diff\n",
    "from core.utils import padding_utils\n",
    "from main import get_config\n",
    "from core.model import Model"
   ]
  },
  {
   "cell_type": "code",
   "execution_count": 37,
   "metadata": {},
   "outputs": [],
   "source": [
    "fpath_config = \"/home/gaurang/IDGL/src/config/mrd/idgl.yml\""
   ]
  },
  {
   "cell_type": "code",
   "execution_count": 38,
   "metadata": {},
   "outputs": [],
   "source": [
    "config = get_config(fpath_config)\n",
    "# config[\"device\"] = torch.device('cpu')"
   ]
  },
  {
   "cell_type": "code",
   "execution_count": 39,
   "metadata": {},
   "outputs": [
    {
     "name": "stdout",
     "output_type": "stream",
     "text": [
      "[ Max seq length: 2366 ]\n",
      "[ Min seq length: 6 ]\n",
      "[ Mean seq length: 389 ]\n",
      "# of training examples: 3003\n",
      "# of dev examples: 1001\n",
      "# of testing examples: 1002\n"
     ]
    }
   ],
   "source": [
    "datasets = prepare_datasets(config)"
   ]
  },
  {
   "cell_type": "code",
   "execution_count": 40,
   "metadata": {},
   "outputs": [],
   "source": [
    "train_set = datasets['train']\n",
    "dev_set = datasets['dev']\n",
    "test_set = datasets['test']"
   ]
  },
  {
   "cell_type": "code",
   "execution_count": 41,
   "metadata": {},
   "outputs": [
    {
     "name": "stdout",
     "output_type": "stream",
     "text": [
      "[ Using CUDA ]\n",
      "[ Max seq length: 2366 ]\n",
      "[ Min seq length: 6 ]\n",
      "[ Mean seq length: 389 ]\n",
      "# of training examples: 3003\n",
      "# of dev examples: 1001\n",
      "# of testing examples: 1002\n",
      "[ Running TextGraphRegression model ]\n",
      "Loading pre-built vocab model stored in ../data/mrd/mrd_seed1234.vocab\n",
      "[ Fix word embeddings ]\n",
      "[ Using 1-layer bidirectional lstm encoder ]\n",
      "[ Using TextGNN ]\n",
      "[ GAT_Attention GraphLearner]\n",
      "[ Graph Learner metric type: gat_attention ]\n",
      "[ GAT_Attention GraphLearner]\n",
      "[ Graph Learner metric type: gat_attention ]\n",
      "[ Graph Learner ]\n",
      "[ Graph Regularization]\n",
      "word_embed.weight: torch.Size([7871, 300])\n",
      "ctx_rnn_encoder.model.weight_ih_l0: torch.Size([128, 300])\n",
      "ctx_rnn_encoder.model.weight_hh_l0: torch.Size([128, 32])\n",
      "ctx_rnn_encoder.model.bias_ih_l0: torch.Size([128])\n",
      "ctx_rnn_encoder.model.bias_hh_l0: torch.Size([128])\n",
      "ctx_rnn_encoder.model.weight_ih_l0_reverse: torch.Size([128, 300])\n",
      "ctx_rnn_encoder.model.weight_hh_l0_reverse: torch.Size([128, 32])\n",
      "ctx_rnn_encoder.model.bias_ih_l0_reverse: torch.Size([128])\n",
      "ctx_rnn_encoder.model.bias_hh_l0_reverse: torch.Size([128])\n",
      "linear_out.weight: torch.Size([1, 64])\n",
      "encoder.graph_encoders.0.weight: torch.Size([64, 64])\n",
      "encoder.graph_encoders.1.weight: torch.Size([64, 64])\n",
      "graph_learner.linear_sims1.0.weight: torch.Size([1, 300])\n",
      "graph_learner.linear_sims1.1.weight: torch.Size([1, 300])\n",
      "graph_learner.linear_sims1.2.weight: torch.Size([1, 300])\n",
      "graph_learner.linear_sims1.3.weight: torch.Size([1, 300])\n",
      "graph_learner.linear_sims1.4.weight: torch.Size([1, 300])\n",
      "graph_learner.linear_sims2.0.weight: torch.Size([1, 300])\n",
      "graph_learner.linear_sims2.1.weight: torch.Size([1, 300])\n",
      "graph_learner.linear_sims2.2.weight: torch.Size([1, 300])\n",
      "graph_learner.linear_sims2.3.weight: torch.Size([1, 300])\n",
      "graph_learner.linear_sims2.4.weight: torch.Size([1, 300])\n",
      "graph_learner2.linear_sims1.0.weight: torch.Size([1, 64])\n",
      "graph_learner2.linear_sims1.1.weight: torch.Size([1, 64])\n",
      "graph_learner2.linear_sims1.2.weight: torch.Size([1, 64])\n",
      "graph_learner2.linear_sims1.3.weight: torch.Size([1, 64])\n",
      "graph_learner2.linear_sims1.4.weight: torch.Size([1, 64])\n",
      "graph_learner2.linear_sims2.0.weight: torch.Size([1, 64])\n",
      "graph_learner2.linear_sims2.1.weight: torch.Size([1, 64])\n",
      "graph_learner2.linear_sims2.2.weight: torch.Size([1, 64])\n",
      "graph_learner2.linear_sims2.3.weight: torch.Size([1, 64])\n",
      "graph_learner2.linear_sims2.4.weight: torch.Size([1, 64])\n",
      "#Parameters = 2458700\n",
      "\n"
     ]
    }
   ],
   "source": [
    "model_handler = ModelHandler(config)"
   ]
  },
  {
   "cell_type": "code",
   "execution_count": 42,
   "metadata": {},
   "outputs": [],
   "source": [
    "input_batch = model_handler.train_loader.nextBatch()"
   ]
  },
  {
   "cell_type": "code",
   "execution_count": 43,
   "metadata": {},
   "outputs": [],
   "source": [
    "x_batch = vectorize_input(input_batch, config, training=True)"
   ]
  },
  {
   "cell_type": "code",
   "execution_count": 44,
   "metadata": {},
   "outputs": [],
   "source": [
    "context, context_lens, targets = x_batch['context'], x_batch['context_lens'], x_batch['targets']"
   ]
  },
  {
   "cell_type": "code",
   "execution_count": 45,
   "metadata": {},
   "outputs": [
    {
     "data": {
      "text/plain": [
       "torch.Size([16, 364])"
      ]
     },
     "execution_count": 45,
     "metadata": {},
     "output_type": "execute_result"
    }
   ],
   "source": [
    "context.shape"
   ]
  },
  {
   "cell_type": "code",
   "execution_count": 46,
   "metadata": {},
   "outputs": [],
   "source": [
    "network = model_handler.model.network\n",
    "raw_context_vec, context_vec, context_mask, init_adj = network.prepare_init_graph(context, context_lens)"
   ]
  },
  {
   "cell_type": "code",
   "execution_count": 47,
   "metadata": {},
   "outputs": [
    {
     "data": {
      "text/plain": [
       "torch.Size([16, 364, 364])"
      ]
     },
     "execution_count": 47,
     "metadata": {},
     "output_type": "execute_result"
    }
   ],
   "source": [
    "init_adj.shape"
   ]
  },
  {
   "cell_type": "code",
   "execution_count": 48,
   "metadata": {},
   "outputs": [],
   "source": [
    "batch_stop_indicators = torch.ones(x_batch['batch_size'], dtype=torch.uint8)"
   ]
  },
  {
   "cell_type": "code",
   "execution_count": 49,
   "metadata": {},
   "outputs": [],
   "source": [
    "node_mask = context_mask\n",
    "raw_node_vec = raw_context_vec\n",
    "cur_raw_adj, cur_adj = network.learn_graph(network.graph_learner, raw_node_vec, network.graph_skip_conn, node_mask=node_mask, graph_include_self=network.graph_include_self, init_adj=init_adj)"
   ]
  },
  {
   "cell_type": "code",
   "execution_count": 59,
   "metadata": {},
   "outputs": [],
   "source": [
    "eps_adj = float(config.get('eps_adj', 0))\n",
    "tmp_stop_criteria = batch_diff(cur_adj, cur_adj, init_adj) > eps_adj"
   ]
  },
  {
   "cell_type": "code",
   "execution_count": 62,
   "metadata": {},
   "outputs": [
    {
     "data": {
      "text/plain": [
       "False"
      ]
     },
     "execution_count": 62,
     "metadata": {},
     "output_type": "execute_result"
    }
   ],
   "source": [
    "batch_stop_indicators = batch_stop_indicators * tmp_stop_criteria\n",
    "torch.sum(batch_stop_indicators).item() > 0"
   ]
  }
 ],
 "metadata": {
  "kernelspec": {
   "display_name": "idgl",
   "language": "python",
   "name": "python3"
  },
  "language_info": {
   "codemirror_mode": {
    "name": "ipython",
    "version": 3
   },
   "file_extension": ".py",
   "mimetype": "text/x-python",
   "name": "python",
   "nbconvert_exporter": "python",
   "pygments_lexer": "ipython3",
   "version": "3.8.16"
  },
  "orig_nbformat": 4,
  "vscode": {
   "interpreter": {
    "hash": "a3b7363a6159328e29ec809810def272d6159524c3c38a6eb2082f355c36c027"
   }
  }
 },
 "nbformat": 4,
 "nbformat_minor": 2
}
